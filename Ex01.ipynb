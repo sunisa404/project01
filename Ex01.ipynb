{
  "nbformat": 4,
  "nbformat_minor": 0,
  "metadata": {
    "colab": {
      "provenance": [],
      "authorship_tag": "ABX9TyNdl+4LDTk5gv4HA5R4j4pB",
      "include_colab_link": true
    },
    "kernelspec": {
      "name": "python3",
      "display_name": "Python 3"
    },
    "language_info": {
      "name": "python"
    }
  },
  "cells": [
    {
      "cell_type": "markdown",
      "metadata": {
        "id": "view-in-github",
        "colab_type": "text"
      },
      "source": [
        "<a href=\"https://colab.research.google.com/github/sunisa404/project01/blob/main/Ex01.ipynb\" target=\"_parent\"><img src=\"https://colab.research.google.com/assets/colab-badge.svg\" alt=\"Open In Colab\"/></a>"
      ]
    },
    {
      "cell_type": "code",
      "execution_count": null,
      "metadata": {
        "id": "FXJO6HB4TkX9"
      },
      "outputs": [],
      "source": [
        "#อบรม Github และ Python\n",
        "#654245024 สุนิสา จันทร์เจริญ 65/39"
      ]
    },
    {
      "cell_type": "code",
      "source": [
        "name = input(\"กรุณากรอกชื่อ: \")\n",
        "print(\"ยินดีต้อนรับครับคุณ:\"+name)"
      ],
      "metadata": {
        "id": "sWSEkwBsUOMk",
        "colab": {
          "base_uri": "https://localhost:8080/",
          "height": 304
        },
        "outputId": "2e2163bf-d61f-41ab-c6ce-ea2dcdc69e6a"
      },
      "execution_count": 40,
      "outputs": [
        {
          "output_type": "error",
          "ename": "KeyboardInterrupt",
          "evalue": "Interrupted by user",
          "traceback": [
            "\u001b[0;31m---------------------------------------------------------------------------\u001b[0m",
            "\u001b[0;31mKeyboardInterrupt\u001b[0m                         Traceback (most recent call last)",
            "\u001b[0;32m<ipython-input-40-54d5105d9f5d>\u001b[0m in \u001b[0;36m<cell line: 1>\u001b[0;34m()\u001b[0m\n\u001b[0;32m----> 1\u001b[0;31m \u001b[0mname\u001b[0m \u001b[0;34m=\u001b[0m \u001b[0minput\u001b[0m\u001b[0;34m(\u001b[0m\u001b[0;34m\"กรุณากรอกชื่อ: \"\u001b[0m\u001b[0;34m)\u001b[0m\u001b[0;34m\u001b[0m\u001b[0;34m\u001b[0m\u001b[0m\n\u001b[0m\u001b[1;32m      2\u001b[0m \u001b[0mprint\u001b[0m\u001b[0;34m(\u001b[0m\u001b[0;34m\"ยินดีต้อนรับครับคุณ:\"\u001b[0m\u001b[0;34m+\u001b[0m\u001b[0mname\u001b[0m\u001b[0;34m)\u001b[0m\u001b[0;34m\u001b[0m\u001b[0;34m\u001b[0m\u001b[0m\n",
            "\u001b[0;32m/usr/local/lib/python3.10/dist-packages/ipykernel/kernelbase.py\u001b[0m in \u001b[0;36mraw_input\u001b[0;34m(self, prompt)\u001b[0m\n\u001b[1;32m    849\u001b[0m                 \u001b[0;34m\"raw_input was called, but this frontend does not support input requests.\"\u001b[0m\u001b[0;34m\u001b[0m\u001b[0;34m\u001b[0m\u001b[0m\n\u001b[1;32m    850\u001b[0m             )\n\u001b[0;32m--> 851\u001b[0;31m         return self._input_request(str(prompt),\n\u001b[0m\u001b[1;32m    852\u001b[0m             \u001b[0mself\u001b[0m\u001b[0;34m.\u001b[0m\u001b[0m_parent_ident\u001b[0m\u001b[0;34m,\u001b[0m\u001b[0;34m\u001b[0m\u001b[0;34m\u001b[0m\u001b[0m\n\u001b[1;32m    853\u001b[0m             \u001b[0mself\u001b[0m\u001b[0;34m.\u001b[0m\u001b[0m_parent_header\u001b[0m\u001b[0;34m,\u001b[0m\u001b[0;34m\u001b[0m\u001b[0;34m\u001b[0m\u001b[0m\n",
            "\u001b[0;32m/usr/local/lib/python3.10/dist-packages/ipykernel/kernelbase.py\u001b[0m in \u001b[0;36m_input_request\u001b[0;34m(self, prompt, ident, parent, password)\u001b[0m\n\u001b[1;32m    893\u001b[0m             \u001b[0;32mexcept\u001b[0m \u001b[0mKeyboardInterrupt\u001b[0m\u001b[0;34m:\u001b[0m\u001b[0;34m\u001b[0m\u001b[0;34m\u001b[0m\u001b[0m\n\u001b[1;32m    894\u001b[0m                 \u001b[0;31m# re-raise KeyboardInterrupt, to truncate traceback\u001b[0m\u001b[0;34m\u001b[0m\u001b[0;34m\u001b[0m\u001b[0m\n\u001b[0;32m--> 895\u001b[0;31m                 \u001b[0;32mraise\u001b[0m \u001b[0mKeyboardInterrupt\u001b[0m\u001b[0;34m(\u001b[0m\u001b[0;34m\"Interrupted by user\"\u001b[0m\u001b[0;34m)\u001b[0m \u001b[0;32mfrom\u001b[0m \u001b[0;32mNone\u001b[0m\u001b[0;34m\u001b[0m\u001b[0;34m\u001b[0m\u001b[0m\n\u001b[0m\u001b[1;32m    896\u001b[0m             \u001b[0;32mexcept\u001b[0m \u001b[0mException\u001b[0m \u001b[0;32mas\u001b[0m \u001b[0me\u001b[0m\u001b[0;34m:\u001b[0m\u001b[0;34m\u001b[0m\u001b[0;34m\u001b[0m\u001b[0m\n\u001b[1;32m    897\u001b[0m                 \u001b[0mself\u001b[0m\u001b[0;34m.\u001b[0m\u001b[0mlog\u001b[0m\u001b[0;34m.\u001b[0m\u001b[0mwarning\u001b[0m\u001b[0;34m(\u001b[0m\u001b[0;34m\"Invalid Message:\"\u001b[0m\u001b[0;34m,\u001b[0m \u001b[0mexc_info\u001b[0m\u001b[0;34m=\u001b[0m\u001b[0;32mTrue\u001b[0m\u001b[0;34m)\u001b[0m\u001b[0;34m\u001b[0m\u001b[0;34m\u001b[0m\u001b[0m\n",
            "\u001b[0;31mKeyboardInterrupt\u001b[0m: Interrupted by user"
          ]
        }
      ]
    },
    {
      "cell_type": "code",
      "source": [
        "num1 = int(input('รับค่า 1:'))\n",
        "print(\"บวกกับ\")\n",
        "num2 = int(input('รับค่า 2:'))\n",
        "\n",
        "total = num1+num2\n",
        "print(\"ผลการบวก = \"+str(total))"
      ],
      "metadata": {
        "colab": {
          "base_uri": "https://localhost:8080/"
        },
        "id": "dlh_NjFaW4I0",
        "outputId": "ade7ebdf-53ff-424b-9b2e-0bf9b41cb1f8"
      },
      "execution_count": 14,
      "outputs": [
        {
          "output_type": "stream",
          "name": "stdout",
          "text": [
            "รับค่า 1:1\n",
            "บวกกับ\n",
            "รับค่า 2:1\n",
            "ผลการบวก = 2\n"
          ]
        }
      ]
    },
    {
      "cell_type": "code",
      "source": [
        "w = float(input('น้ำหนัก (กิโลกรัม): '))\n",
        "h = float(input('ส่วนสูง (เซนติเมตร): '))\n",
        "\n",
        "# แปลงส่วนสูงจากเซนติเมตรเป็นเมตร\n",
        "h = h / 100\n",
        "\n",
        "# คำนวณ BMI\n",
        "bmi = w / (h * h)\n",
        "\n",
        "# แสดงผล\n",
        "print(\"BMI = \" + str(bmi))\n"
      ],
      "metadata": {
        "colab": {
          "base_uri": "https://localhost:8080/"
        },
        "id": "KjmjoNiHZ7I8",
        "outputId": "3e8ad993-4be6-411f-ffc9-5808fc42af00"
      },
      "execution_count": 33,
      "outputs": [
        {
          "output_type": "stream",
          "name": "stdout",
          "text": [
            "น้ำหนัก (กิโลกรัม): 46\n",
            "ส่วนสูง (เซนติเมตร): 155\n",
            "BMI = 19.14672216441207\n"
          ]
        }
      ]
    },
    {
      "cell_type": "code",
      "source": [
        "#การใช้ if else\n",
        "a = 50\n",
        "b = 70\n",
        "if a>b:\n",
        "  print('a มากกว่า b')\n",
        "if a<b:\n",
        "  print('a น้อยกว่า b')"
      ],
      "metadata": {
        "colab": {
          "base_uri": "https://localhost:8080/"
        },
        "id": "EKe6KjQBj5MF",
        "outputId": "d8f4ea01-c1c6-4c36-ce8e-9d963fd81b27"
      },
      "execution_count": 39,
      "outputs": [
        {
          "output_type": "stream",
          "name": "stdout",
          "text": [
            "a น้อยกว่า b\n"
          ]
        }
      ]
    },
    {
      "cell_type": "code",
      "source": [
        "w = float(input('น้ำหนัก (กิโลกรัม): '))\n",
        "h = float(input('ส่วนสูง (เซนติเมตร): '))\n",
        "\n",
        "# แปลงส่วนสูงจากเซนติเมตรเป็นเมตร\n",
        "h = h / 100\n",
        "\n",
        "# คำนวณ BMI\n",
        "bmi = w / (h * h)\n",
        "\n",
        "# แสดงผล\n",
        "print(\"BMI = \" + str(bmi))\n",
        "\n",
        "# ตรวจสอบ BMI และแสดงคำแนะนำ\n",
        "if bmi >= 30:\n",
        "    print('คุณควรออกกำลังกายนะคะ')\n",
        "\n",
        "else:\n",
        "    print('ไปทานอาหารเพิ่มนะคะคนดี')\n",
        "\n"
      ],
      "metadata": {
        "colab": {
          "base_uri": "https://localhost:8080/"
        },
        "id": "s21uHRhIlZpj",
        "outputId": "ffb8a2a3-ff99-41b7-ba67-fb309d69f090"
      },
      "execution_count": 41,
      "outputs": [
        {
          "output_type": "stream",
          "name": "stdout",
          "text": [
            "น้ำหนัก (กิโลกรัม): 46\n",
            "ส่วนสูง (เซนติเมตร): 155\n",
            "BMI = 19.14672216441207\n",
            "ไปทานอาหารเพิ่มนะคะคนดี\n"
          ]
        }
      ]
    }
  ]
}